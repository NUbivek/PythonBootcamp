{
 "cells": [
  {
   "cell_type": "markdown",
   "metadata": {
    "collapsed": true
   },
   "source": [
    "# Make a class called Point\n",
    "    each point should have two attributes, X and Y\n",
    "    \n",
    "    each point should have a 'reset' method that works as follows:\n",
    "        if p1 is a Point, then\n",
    "        p1.reset() should make X = 0 and Y = 0 for that point\n",
    "        \n",
    "    each point should have a __str__ method that prints the X and Y coordinates of the point\n",
    "\n",
    "    each point should have a 'move' method that works as follows:\n",
    "        if p1 is a Point, then\n",
    "        p1.move(new_X, new_Y) should make X = new_X and Y = new_Y\n",
    "        \n",
    "    each point should have a 'distance' method that works as follows:\n",
    "        if p1 and p2 are both Points, then\n",
    "        p1.distance(p2) = equals the distance of the line joining the two points\n",
    "        \n",
    "        "
   ]
  },
  {
   "cell_type": "markdown",
   "metadata": {},
   "source": [
    "\n",
    "# Make a class called Vector2D\n",
    "\n",
    "Assume that the vectors go from the origin to some point X, Y\n",
    "Vectors should have the following methods\n",
    "\n",
    "addition\n",
    "subtraction\n",
    "absolute value (same as distance from the origin to X, Y)\n",
    "\n",
    "Should also have methods that can check if two vectors are equal or not equal (ne)\n",
    "Finally, Vector2D should have a __str__ method to print itself\n",
    "\n",
    "\n",
    "\n"
   ]
  },
  {
   "cell_type": "code",
   "execution_count": null,
   "metadata": {
    "collapsed": true
   },
   "outputs": [],
   "source": [
    "class Vector2D():\n",
    "    def __init__(self, x, y):\n",
    "        pass\n",
    "\n",
    "\n",
    "    def __add__(self, other):\n",
    "        pass\n",
    "\n",
    "\n",
    "    def __sub__(self, other):\n",
    "        pass\n",
    "\n",
    "\n",
    "    def __abs__(self):\n",
    "        pass\n",
    "\n",
    "    #eq is equal to. Should return a Boolean\n",
    "    def __eq__(self, other):\n",
    "        pass\n",
    "\n",
    "    def __str__(self):\n",
    "        pass\n",
    "    \n",
    "    #ne is not equal to. should return a Boolean\n",
    "    def __ne__(self, other):\n",
    "        pass\n"
   ]
  },
  {
   "cell_type": "markdown",
   "metadata": {},
   "source": [
    "# Make a class of playing cards called Card\n",
    "\n",
    "cards have two attributes: suit and rank\n",
    "suit is either Hearts, Clubs, Diamonds, or Spades\n",
    "rank is either 2,3,4,5,6,7,8,9,10,J,Q,K,or A\n",
    "when you print the card, it should say, for example, \"Jack of Clubs\"\n",
    " \n"
   ]
  },
  {
   "cell_type": "code",
   "execution_count": null,
   "metadata": {
    "collapsed": true
   },
   "outputs": [],
   "source": [
    "class Card():\n",
    "    def __init__(self, rank, suit):\n",
    "        pass\n",
    "        \n",
    "    def __str__(self):\n",
    "        pass"
   ]
  },
  {
   "cell_type": "markdown",
   "metadata": {},
   "source": [
    "# Make a class called Deck that will contain a full deck of 52 cards\n",
    "\n",
    "make an init method that makes a new deck of 52 playing cards\n",
    "\n",
    "make a shuffle method that will shuffle the cards \n",
    "(hint: use a function from the random module to do this!!!)\n",
    "\n",
    "make any other methods you think of!\n",
    "\n",
    "\n",
    "\n",
    "\n",
    "\n",
    "\n",
    "\n"
   ]
  },
  {
   "cell_type": "code",
   "execution_count": null,
   "metadata": {
    "collapsed": true
   },
   "outputs": [],
   "source": []
  }
 ],
 "metadata": {
  "kernelspec": {
   "display_name": "Python 3.6",
   "language": "python",
   "name": "python36"
  },
  "language_info": {
   "codemirror_mode": {
    "name": "ipython",
    "version": 3
   },
   "file_extension": ".py",
   "mimetype": "text/x-python",
   "name": "python",
   "nbconvert_exporter": "python",
   "pygments_lexer": "ipython3",
   "version": "3.6.0"
  }
 },
 "nbformat": 4,
 "nbformat_minor": 2
}
